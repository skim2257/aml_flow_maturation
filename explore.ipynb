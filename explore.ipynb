{
 "cells": [
  {
   "cell_type": "code",
   "execution_count": 1,
   "metadata": {},
   "outputs": [],
   "source": [
    "import os\n",
    "import pandas as pd\n",
    "import fcsparser as fcs\n",
    "import glob"
   ]
  },
  {
   "cell_type": "code",
   "execution_count": 5,
   "metadata": {},
   "outputs": [],
   "source": [
    "files = sorted (glob.glob (\"data/*.fcs\"))"
   ]
  },
  {
   "cell_type": "code",
   "execution_count": 8,
   "metadata": {},
   "outputs": [
    {
     "name": "stdout",
     "output_type": "stream",
     "text": [
      "data\\0001.FCS\n",
      "{'__header__': {'FCS format': b'FCS2.0', 'text start': 256, 'text end': 2692, 'data start': 8192, 'data end': 428192, 'analysis start': 0, 'analysis end': 0}, '@P1GAIN': '5.000000', '@P1ADDRESS': '6', '@P1X': ' 0.0, 0.0', '@P1U': ' ', '@P1C': 'ARITHMETIC', '@P1Z': 'ON', '@P1Q': 'FS Lin', '@P2GAIN': '1.000000', '@P2ADDRESS': '9', '@P2U': ' ', '@P2C': 'GEOMETRIC', '@P2Z': 'ON', '@P2Q': 'SS Log', '@P3GAIN': '1.000000', '@P3ADDRESS': '15', '@P3U': 'LOG Channels', '@P3C': 'GEOMETRIC', '@P3Z': 'ON', '@P3Q': 'FL1 Log', '@P4GAIN': '1.000000', '@P4ADDRESS': '19', '@P4U': 'LOGChannels', '@P4C': 'GEOMETRIC', '@P4Z': 'ON', '@P4Q': 'FL2 Log', '@P5GAIN': '1.000000', '@P5ADDRESS': '23', '@P5U': 'LOG Channels', '@P5C': 'GEOMETRIC', '@P5Z': 'ON', '@P5Q': 'FL3 Log', '@P6GAIN': '1.000000', '@P6ADDRESS': '27', '@P6U': ' ', '@P6C': 'GEOMETRIC', '@P6Z': 'ON', '@P6Q': 'FL4 Log', '@P7GAIN': '1.000000', '@P7ADDRESS': '33', '@P7U': ' ', '@P7C': 'GEOMETRIC', '@P7Z': 'ON', '@P7Q': 'FL5 Log', '$MODE': 'L', '$TOT': 30000, '$PAR': 7, '$SYS': 'CXP     ', '$BYTEORD': '1,2', '$NEXTDATA': 506185, '$DATATYPE': 'I', '$EXP': ' ', '$PROJ': ' ', '$INST': 'CLARiENT', '$INSTADDRESS': '101 Theory Dr., Irvine, CA, 92617', '@LOCATION': '101 Theory Dr., Irvine, CA, 92617', '$RUNNUMBER': '00016825', '@FILEGUID': '0B943952783BA54EA4A5A04D20EFD4E9', '$OP': 'Flow#1', '$CYT': 'Cytomics FC 500', '$SMNO': '00016825', '$SRC': ' ', '$CELLS': ' ', '$BTIM': '06:36:59', '$ETIM': '06:37:49', '$DATE': '20-Dec-05', '@Y2KDATE': '20051220', '@BASELINEOFFSET': 'ON', '@STOPREASON': 'PROTOCOL', '$DFC2TO1': '0.70', '$DFC3TO1': '0.60', '$DFC4TO1': '0.60', '$DFC5TO1': '0.80', '$DFC1TO2': '22.20', '$DFC3TO2': '9.90', '$DFC4TO2': '3.10', '$DFC5TO2': '3.50', '$DFC1TO3': '12.50', '$DFC2TO3': '61.10', '$DFC4TO3': '2.40', '$DFC5TO3': '2.60', '$DFC1TO4': '1.00', '$DFC2TO4': '5.90', '$DFC3TO4': '19.20', '$DFC5TO4': '0.40', '$DFC1TO5': '0.30', '$DFC2TO5': '0.50', '$DFC3TO5': '2.40', '$DFC4TO5': '12.30', '@DISCRIMINATOR': 'FS,108', '@HENELASER': 'DISABLED', '@TARGETLASERPOWER': '20 mW', '@RATIONUMERATORMUX': '6', '@RATIODENOMINATORMUX': '15', '@RESAVEDFILE': 'RUNTIME PROTOCOL', '@BARCODE': 'NoRead', '@CAROUSEL': '1', '@TUBENO': '1', '@PANEL': 'L-L Comprehensive', '@SETTINGSFILE': '5C-1L-Log-SS settings.pro', '@SETTINGSFILEDATETIME': '19-Dec-2005, 16:13:09', '@SAMPLEID1': 'UP00_000399', '@SAMPLEID2': '112905', '@SAMPLEID3': '112605', '@SAMPLEID4': 'tce-5.3', '@COMPENSATIONMODE': 'Advanced', '@ABSCALFACTOR': 'NOT SET', 'TESTNAME': 'CVSN 5C LOG', 'TESTFILE': 'CVSN 5C LOG', '@CYTOMETERID': 'AH18074', 'ACQTIME': '49.8', '@BUILDNUMBER': '1721', '$FIL': 'UP00_000399_001.LMD', '@Acquisition Protocol Offset': '0000428448', '_channels_':                    $PnN       $PnS  $PnR  $PnB $PnV      $PnG            $PnE\n",
      "Channel Number                                                               \n",
      "1                FS Lin     FS Lin  1024    16  430  5.000000          [0, 0]\n",
      "2                SS Log     SS Log  1024    16  102  1.000000  [ 4.0, 0.1024]\n",
      "3               FL1 Log  IgG1-FITC  1024    16  444  1.000000  [ 4.0, 0.1024]\n",
      "4               FL2 Log    IgG1-PE  1024    16  529  1.000000  [ 4.0, 0.1024]\n",
      "5               FL3 Log   CD45-ECD  1024    16  517  1.000000  [ 4.0, 0.1024]\n",
      "6               FL4 Log   IgG1-PC5  1024    16  502  1.000000  [ 4.0, 0.1024]\n",
      "7               FL5 Log   IgG1-PC7  1024    16  539  1.000000  [ 4.0, 0.1024], '_channel_names_': ('FS Lin', 'SS Log', 'IgG1-FITC', 'IgG1-PE', 'CD45-ECD', 'IgG1-PC5', 'IgG1-PC7')}\n",
      "\n",
      "       FS Lin  SS Log  IgG1-FITC  IgG1-PE  CD45-ECD  IgG1-PC5  IgG1-PC7\n",
      "0       427.0   402.0        0.0    149.0     660.0      59.0       0.0\n",
      "1      1023.0   622.0      210.0    191.0     567.0      41.0      96.0\n",
      "2       917.0   588.0      196.0    221.0     576.0     136.0     201.0\n",
      "3       890.0   588.0      191.0    107.0     557.0       0.0       0.0\n",
      "4       855.0   629.0      189.0    191.0     487.0      75.0      16.0\n",
      "5       921.0   599.0      148.0    209.0     563.0     148.0      64.0\n",
      "6       509.0   390.0        5.0    136.0     636.0      51.0       0.0\n",
      "7       520.0   411.0       71.0    147.0     663.0     161.0       0.0\n",
      "8       929.0   617.0      111.0    137.0     563.0       0.0       0.0\n",
      "9       568.0   401.0        0.0    179.0     711.0      72.0       9.0\n",
      "10     1023.0   620.0      195.0    200.0     470.0      86.0      33.0\n",
      "11      408.0   366.0        0.0      0.0     695.0      19.0       0.0\n",
      "12     1018.0   619.0      265.0    278.0     367.0     139.0      21.0\n",
      "13     1023.0   586.0      301.0    287.0     444.0      83.0      30.0\n",
      "14      889.0   613.0      211.0    206.0     535.0     153.0       9.0\n",
      "15      792.0   598.0      186.0      0.0     605.0       0.0      40.0\n",
      "16      846.0   505.0      251.0    192.0     457.0       0.0      34.0\n",
      "17      824.0   572.0      102.0     84.0     463.0     127.0      54.0\n",
      "18      721.0   587.0      110.0    188.0     418.0      81.0      65.0\n",
      "19      614.0   429.0        0.0    102.0     706.0       0.0      62.0\n",
      "20      843.0   617.0      187.0    222.0     599.0     159.0      90.0\n",
      "21     1008.0   617.0      170.0    139.0     528.0       0.0       0.0\n",
      "22      826.0   595.0      142.0    219.0     450.0      11.0      64.0\n",
      "23      501.0   358.0        0.0      0.0     683.0      24.0      49.0\n",
      "24      782.0   591.0      172.0    136.0     475.0      99.0       0.0\n",
      "25      806.0   565.0      191.0    132.0     584.0     123.0       0.0\n",
      "26     1023.0   603.0      179.0    203.0     449.0     128.0       0.0\n",
      "27      939.0   600.0      195.0     61.0     512.0       0.0      29.0\n",
      "28      682.0   551.0      140.0     91.0     476.0     109.0       0.0\n",
      "29     1023.0   595.0      145.0    184.0     553.0     143.0      94.0\n",
      "...       ...     ...        ...      ...       ...       ...       ...\n",
      "29970   937.0   553.0      132.0     90.0     565.0     121.0      78.0\n",
      "29971   487.0   390.0        0.0      0.0     669.0       0.0       0.0\n",
      "29972   768.0   573.0      176.0    115.0     569.0     151.0      81.0\n",
      "29973   900.0   609.0      145.0     42.0     537.0       9.0     106.0\n",
      "29974   797.0   488.0      234.0    164.0     371.0       0.0     111.0\n",
      "29975   382.0   327.0        0.0      0.0     684.0       0.0       0.0\n",
      "29976   812.0   630.0      241.0    207.0     405.0     136.0      45.0\n",
      "29977  1023.0   602.0      184.0    154.0     577.0     163.0       0.0\n",
      "29978   794.0   577.0      176.0    122.0     561.0     137.0      33.0\n",
      "29979   951.0   600.0      220.0    157.0     554.0     115.0      43.0\n",
      "29980   417.0   418.0       12.0    136.0     701.0       0.0      66.0\n",
      "29981   749.0   564.0      177.0    149.0     573.0     347.0     279.0\n",
      "29982   821.0   596.0      159.0    116.0     575.0       0.0      63.0\n",
      "29983   379.0   438.0       47.0      0.0     752.0     256.0       0.0\n",
      "29984   806.0   548.0      110.0    199.0     460.0      49.0       5.0\n",
      "29985   854.0   620.0      154.0    124.0     507.0       0.0     113.0\n",
      "29986   632.0   587.0      147.0    137.0     441.0      14.0      56.0\n",
      "29987   391.0   392.0      186.0    170.0     183.0      50.0       0.0\n",
      "29988   470.0   334.0        0.0    145.0     620.0       0.0       0.0\n",
      "29989   510.0   395.0       88.0    120.0     634.0       0.0      57.0\n",
      "29990   366.0   331.0        0.0      0.0     668.0     137.0       0.0\n",
      "29991   719.0   610.0      191.0    138.0     484.0     142.0       0.0\n",
      "29992   553.0   393.0        0.0      0.0     684.0      17.0       0.0\n",
      "29993   370.0   373.0        0.0      0.0     664.0       0.0       0.0\n",
      "29994   678.0   551.0      180.0    148.0     429.0      47.0      38.0\n",
      "29995   476.0   355.0        0.0      0.0     706.0       0.0       0.0\n",
      "29996   402.0   368.0        0.0      0.0     685.0       0.0     156.0\n",
      "29997   388.0   321.0       30.0    126.0     643.0       0.0       0.0\n",
      "29998   473.0   403.0        0.0      0.0     706.0     153.0       8.0\n",
      "29999   540.0   397.0        7.0      0.0     658.0       0.0     147.0\n",
      "\n",
      "[30000 rows x 7 columns]\n"
     ]
    }
   ],
   "source": [
    "for f in files:\n",
    "    print (f)\n",
    "    meta, data = fcs.parse (f,reformat_meta=True)\n",
    "    print (m)\n",
    "    print (\"\")\n",
    "    print (d)\n",
    "    break"
   ]
  },
  {
   "cell_type": "code",
   "execution_count": null,
   "metadata": {},
   "outputs": [],
   "source": []
  }
 ],
 "metadata": {
  "kernelspec": {
   "display_name": "Python 3",
   "language": "python",
   "name": "python3"
  },
  "language_info": {
   "codemirror_mode": {
    "name": "ipython",
    "version": 3
   },
   "file_extension": ".py",
   "mimetype": "text/x-python",
   "name": "python",
   "nbconvert_exporter": "python",
   "pygments_lexer": "ipython3",
   "version": "3.6.8"
  }
 },
 "nbformat": 4,
 "nbformat_minor": 2
}
